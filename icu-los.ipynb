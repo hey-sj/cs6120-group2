{
 "cells": [
  {
   "cell_type": "code",
   "execution_count": 53,
   "id": "initial_id",
   "metadata": {
    "collapsed": true
   },
   "outputs": [],
   "source": [
    "import pandas as pd\n",
    "import numpy as np\n",
    "from sklearn.impute import SimpleImputer\n",
    "from sklearn.preprocessing import StandardScaler"
   ]
  },
  {
   "cell_type": "code",
   "execution_count": 54,
   "id": "1af9f1f3",
   "metadata": {},
   "outputs": [
    {
     "name": "stdout",
     "output_type": "stream",
     "text": [
      "   subject_id   stay_id  seq_num icd_code  icd_version  \\\n",
      "0    10000032  32952584        1     4589            9   \n",
      "1    10000032  32952584        2    07070            9   \n",
      "2    10000032  32952584        3      V08            9   \n",
      "3    10000032  39399961        1    78097            9   \n",
      "4    10000032  39399961        2    34830            9   \n",
      "\n",
      "                                           icd_title icd_combined  \n",
      "0                                    HYPOTENSION NOS       9-4589  \n",
      "1  UNSPECIFIED VIRAL HEPATITIS C WITHOUT HEPATIC ...      9-07070  \n",
      "2                         ASYMPTOMATIC HIV INFECTION        9-V08  \n",
      "3                             ALTERED MENTAL STATUS       9-78097  \n",
      "4                        ENCEPHALOPATHY, UNSPECIFIED      9-34830  \n",
      "Number of unique icd_combined: 3894\n"
     ]
    }
   ],
   "source": [
    "#load data\n",
    "icu_data = pd.read_csv('icu/icustays_cleaned.csv')\n",
    "diagnosis = pd.read_csv('ed/diagnosis_cleaned.csv')\n",
    "triage = pd.read_csv('ed/triage_cleaned.csv')\n",
    "vitals = pd.read_csv('ed/vitals_cleaned.csv')\n",
    "ed_stays = pd.read_csv('ed/edstays_cleaned.csv')\n",
    "\n",
    "# Combine the icd_version and icd_code columns in diagnosis table\n",
    "diagnosis['icd_combined'] = diagnosis['icd_version'].astype(str) + '-' + diagnosis['icd_code'].astype(str)\n",
    "print(diagnosis.head())\n",
    "\n",
    "unique_icd_combined_count = diagnosis['icd_combined'].nunique()\n",
    "print('Number of unique icd_combined:', unique_icd_combined_count)\n",
    "\n",
    "#print(ed_stays.columns)\n",
    "#print(icu_data.columns)\n"
   ]
  },
  {
   "cell_type": "code",
   "execution_count": 55,
   "id": "57c4ee1f",
   "metadata": {},
   "outputs": [
    {
     "name": "stdout",
     "output_type": "stream",
     "text": [
      "Ranges in vitals_cleaned: {'heartrate': {'min': np.float64(1.0), 'max': np.float64(705.0)}, 'resprate': {'min': np.float64(0.34), 'max': np.float64(78.0)}, 'o2sat': {'min': np.float64(1.0), 'max': np.float64(972.0)}, 'sbp': {'min': np.float64(2.0), 'max': np.float64(854.0)}, 'dbp': {'min': np.float64(2.0), 'max': np.float64(97100.0)}}\n",
      "Ranges in triage_cleaned: {'heartrate': {'min': np.float64(14.0), 'max': np.float64(1228.0)}, 'resprate': {'min': np.float64(1.0), 'max': np.float64(189.0)}, 'o2sat': {'min': np.float64(2.0), 'max': np.float64(1004.0)}, 'sbp': {'min': np.float64(1.0), 'max': np.float64(9656.0)}, 'dbp': {'min': np.float64(4.0), 'max': np.float64(9102.0)}}\n"
     ]
    },
    {
     "ename": "KeyError",
     "evalue": "'stay_id_vitals'",
     "output_type": "error",
     "traceback": [
      "\u001b[0;31m---------------------------------------------------------------------------\u001b[0m",
      "\u001b[0;31mKeyError\u001b[0m                                  Traceback (most recent call last)",
      "\u001b[0;32m/var/folders/6j/tw_4d04x22j_cqbt0vjwb_k80000gn/T/ipykernel_63833/3901184930.py\u001b[0m in \u001b[0;36m?\u001b[0;34m()\u001b[0m\n\u001b[1;32m     21\u001b[0m \u001b[0mmerged_ed_icu\u001b[0m \u001b[0;34m=\u001b[0m \u001b[0med_stays\u001b[0m\u001b[0;34m[\u001b[0m\u001b[0;34m[\u001b[0m\u001b[0;34m'stay_id'\u001b[0m\u001b[0;34m,\u001b[0m \u001b[0;34m'hadm_id'\u001b[0m\u001b[0;34m]\u001b[0m\u001b[0;34m]\u001b[0m\u001b[0;34m.\u001b[0m\u001b[0mmerge\u001b[0m\u001b[0;34m(\u001b[0m\u001b[0micu_data\u001b[0m\u001b[0;34m[\u001b[0m\u001b[0;34m[\u001b[0m\u001b[0;34m'hadm_id'\u001b[0m\u001b[0;34m,\u001b[0m \u001b[0;34m'los'\u001b[0m\u001b[0;34m]\u001b[0m\u001b[0;34m]\u001b[0m\u001b[0;34m,\u001b[0m \u001b[0mon\u001b[0m\u001b[0;34m=\u001b[0m\u001b[0;34m'hadm_id'\u001b[0m\u001b[0;34m,\u001b[0m \u001b[0mhow\u001b[0m\u001b[0;34m=\u001b[0m\u001b[0;34m'inner'\u001b[0m\u001b[0;34m)\u001b[0m\u001b[0;34m\u001b[0m\u001b[0;34m\u001b[0m\u001b[0m\n\u001b[1;32m     22\u001b[0m \u001b[0mmerged_ed_icu\u001b[0m \u001b[0;34m=\u001b[0m \u001b[0mmerged_ed_icu\u001b[0m\u001b[0;34m[\u001b[0m\u001b[0;34m[\u001b[0m\u001b[0;34m'stay_id'\u001b[0m\u001b[0;34m,\u001b[0m \u001b[0;34m'hadm_id'\u001b[0m\u001b[0;34m,\u001b[0m \u001b[0;34m'los'\u001b[0m\u001b[0;34m]\u001b[0m\u001b[0;34m]\u001b[0m\u001b[0;34m\u001b[0m\u001b[0;34m\u001b[0m\u001b[0m\n\u001b[1;32m     23\u001b[0m \u001b[0;34m\u001b[0m\u001b[0m\n\u001b[1;32m     24\u001b[0m \u001b[0;31m# Select columns and rename duplicates for clarity\u001b[0m\u001b[0;34m\u001b[0m\u001b[0;34m\u001b[0m\u001b[0m\n\u001b[0;32m---> 25\u001b[0;31m ed_features = pd.merge(\n\u001b[0m\u001b[1;32m     26\u001b[0m     \u001b[0mtriage\u001b[0m\u001b[0;34m[\u001b[0m\u001b[0;34m[\u001b[0m\u001b[0;34m'stay_id'\u001b[0m\u001b[0;34m,\u001b[0m \u001b[0;34m'heartrate'\u001b[0m\u001b[0;34m,\u001b[0m \u001b[0;34m'resprate'\u001b[0m\u001b[0;34m,\u001b[0m \u001b[0;34m'o2sat'\u001b[0m\u001b[0;34m,\u001b[0m \u001b[0;34m'sbp'\u001b[0m\u001b[0;34m,\u001b[0m \u001b[0;34m'dbp'\u001b[0m\u001b[0;34m]\u001b[0m\u001b[0;34m]\u001b[0m\u001b[0;34m,\u001b[0m\u001b[0;34m\u001b[0m\u001b[0;34m\u001b[0m\u001b[0m\n\u001b[1;32m     27\u001b[0m     \u001b[0mvitals\u001b[0m\u001b[0;34m[\u001b[0m\u001b[0;34m[\u001b[0m\u001b[0;34m'stay_id'\u001b[0m\u001b[0;34m,\u001b[0m \u001b[0;34m'heartrate'\u001b[0m\u001b[0;34m,\u001b[0m \u001b[0;34m'resprate'\u001b[0m\u001b[0;34m,\u001b[0m \u001b[0;34m'o2sat'\u001b[0m\u001b[0;34m,\u001b[0m \u001b[0;34m'sbp'\u001b[0m\u001b[0;34m,\u001b[0m \u001b[0;34m'dbp'\u001b[0m\u001b[0;34m]\u001b[0m\u001b[0;34m]\u001b[0m\u001b[0;34m,\u001b[0m\u001b[0;34m\u001b[0m\u001b[0;34m\u001b[0m\u001b[0m\n\u001b[1;32m     28\u001b[0m     \u001b[0mleft_on\u001b[0m\u001b[0;34m=\u001b[0m\u001b[0;34m'stay_id_triage'\u001b[0m\u001b[0;34m,\u001b[0m \u001b[0mright_on\u001b[0m\u001b[0;34m=\u001b[0m\u001b[0;34m'stay_id_vitals'\u001b[0m\u001b[0;34m,\u001b[0m \u001b[0mhow\u001b[0m\u001b[0;34m=\u001b[0m\u001b[0;34m'outer'\u001b[0m\u001b[0;34m\u001b[0m\u001b[0;34m\u001b[0m\u001b[0m\n",
      "\u001b[0;32m/Library/Frameworks/Python.framework/Versions/3.12/lib/python3.12/site-packages/pandas/core/reshape/merge.py\u001b[0m in \u001b[0;36m?\u001b[0;34m(left, right, how, on, left_on, right_on, left_index, right_index, sort, suffixes, copy, indicator, validate)\u001b[0m\n\u001b[1;32m    166\u001b[0m             \u001b[0mvalidate\u001b[0m\u001b[0;34m=\u001b[0m\u001b[0mvalidate\u001b[0m\u001b[0;34m,\u001b[0m\u001b[0;34m\u001b[0m\u001b[0;34m\u001b[0m\u001b[0m\n\u001b[1;32m    167\u001b[0m             \u001b[0mcopy\u001b[0m\u001b[0;34m=\u001b[0m\u001b[0mcopy\u001b[0m\u001b[0;34m,\u001b[0m\u001b[0;34m\u001b[0m\u001b[0;34m\u001b[0m\u001b[0m\n\u001b[1;32m    168\u001b[0m         \u001b[0;34m)\u001b[0m\u001b[0;34m\u001b[0m\u001b[0;34m\u001b[0m\u001b[0m\n\u001b[1;32m    169\u001b[0m     \u001b[0;32melse\u001b[0m\u001b[0;34m:\u001b[0m\u001b[0;34m\u001b[0m\u001b[0;34m\u001b[0m\u001b[0m\n\u001b[0;32m--> 170\u001b[0;31m         op = _MergeOperation(\n\u001b[0m\u001b[1;32m    171\u001b[0m             \u001b[0mleft_df\u001b[0m\u001b[0;34m,\u001b[0m\u001b[0;34m\u001b[0m\u001b[0;34m\u001b[0m\u001b[0m\n\u001b[1;32m    172\u001b[0m             \u001b[0mright_df\u001b[0m\u001b[0;34m,\u001b[0m\u001b[0;34m\u001b[0m\u001b[0;34m\u001b[0m\u001b[0m\n\u001b[1;32m    173\u001b[0m             \u001b[0mhow\u001b[0m\u001b[0;34m=\u001b[0m\u001b[0mhow\u001b[0m\u001b[0;34m,\u001b[0m\u001b[0;34m\u001b[0m\u001b[0;34m\u001b[0m\u001b[0m\n",
      "\u001b[0;32m/Library/Frameworks/Python.framework/Versions/3.12/lib/python3.12/site-packages/pandas/core/reshape/merge.py\u001b[0m in \u001b[0;36m?\u001b[0;34m(self, left, right, how, on, left_on, right_on, left_index, right_index, sort, suffixes, indicator, validate)\u001b[0m\n\u001b[1;32m    790\u001b[0m             \u001b[0mself\u001b[0m\u001b[0;34m.\u001b[0m\u001b[0mright_join_keys\u001b[0m\u001b[0;34m,\u001b[0m\u001b[0;34m\u001b[0m\u001b[0;34m\u001b[0m\u001b[0m\n\u001b[1;32m    791\u001b[0m             \u001b[0mself\u001b[0m\u001b[0;34m.\u001b[0m\u001b[0mjoin_names\u001b[0m\u001b[0;34m,\u001b[0m\u001b[0;34m\u001b[0m\u001b[0;34m\u001b[0m\u001b[0m\n\u001b[1;32m    792\u001b[0m             \u001b[0mleft_drop\u001b[0m\u001b[0;34m,\u001b[0m\u001b[0;34m\u001b[0m\u001b[0;34m\u001b[0m\u001b[0m\n\u001b[1;32m    793\u001b[0m             \u001b[0mright_drop\u001b[0m\u001b[0;34m,\u001b[0m\u001b[0;34m\u001b[0m\u001b[0;34m\u001b[0m\u001b[0m\n\u001b[0;32m--> 794\u001b[0;31m         \u001b[0;34m)\u001b[0m \u001b[0;34m=\u001b[0m \u001b[0mself\u001b[0m\u001b[0;34m.\u001b[0m\u001b[0m_get_merge_keys\u001b[0m\u001b[0;34m(\u001b[0m\u001b[0;34m)\u001b[0m\u001b[0;34m\u001b[0m\u001b[0;34m\u001b[0m\u001b[0m\n\u001b[0m\u001b[1;32m    795\u001b[0m \u001b[0;34m\u001b[0m\u001b[0m\n\u001b[1;32m    796\u001b[0m         \u001b[0;32mif\u001b[0m \u001b[0mleft_drop\u001b[0m\u001b[0;34m:\u001b[0m\u001b[0;34m\u001b[0m\u001b[0;34m\u001b[0m\u001b[0m\n\u001b[1;32m    797\u001b[0m             \u001b[0mself\u001b[0m\u001b[0;34m.\u001b[0m\u001b[0mleft\u001b[0m \u001b[0;34m=\u001b[0m \u001b[0mself\u001b[0m\u001b[0;34m.\u001b[0m\u001b[0mleft\u001b[0m\u001b[0;34m.\u001b[0m\u001b[0m_drop_labels_or_levels\u001b[0m\u001b[0;34m(\u001b[0m\u001b[0mleft_drop\u001b[0m\u001b[0;34m)\u001b[0m\u001b[0;34m\u001b[0m\u001b[0;34m\u001b[0m\u001b[0m\n",
      "\u001b[0;32m/Library/Frameworks/Python.framework/Versions/3.12/lib/python3.12/site-packages/pandas/core/reshape/merge.py\u001b[0m in \u001b[0;36m?\u001b[0;34m(self)\u001b[0m\n\u001b[1;32m   1293\u001b[0m                         \u001b[0;31m# Then we're either Hashable or a wrong-length arraylike,\u001b[0m\u001b[0;34m\u001b[0m\u001b[0;34m\u001b[0m\u001b[0m\n\u001b[1;32m   1294\u001b[0m                         \u001b[0;31m#  the latter of which will raise\u001b[0m\u001b[0;34m\u001b[0m\u001b[0;34m\u001b[0m\u001b[0m\n\u001b[1;32m   1295\u001b[0m                         \u001b[0mrk\u001b[0m \u001b[0;34m=\u001b[0m \u001b[0mcast\u001b[0m\u001b[0;34m(\u001b[0m\u001b[0mHashable\u001b[0m\u001b[0;34m,\u001b[0m \u001b[0mrk\u001b[0m\u001b[0;34m)\u001b[0m\u001b[0;34m\u001b[0m\u001b[0;34m\u001b[0m\u001b[0m\n\u001b[1;32m   1296\u001b[0m                         \u001b[0;32mif\u001b[0m \u001b[0mrk\u001b[0m \u001b[0;32mis\u001b[0m \u001b[0;32mnot\u001b[0m \u001b[0;32mNone\u001b[0m\u001b[0;34m:\u001b[0m\u001b[0;34m\u001b[0m\u001b[0;34m\u001b[0m\u001b[0m\n\u001b[0;32m-> 1297\u001b[0;31m                             \u001b[0mright_keys\u001b[0m\u001b[0;34m.\u001b[0m\u001b[0mappend\u001b[0m\u001b[0;34m(\u001b[0m\u001b[0mright\u001b[0m\u001b[0;34m.\u001b[0m\u001b[0m_get_label_or_level_values\u001b[0m\u001b[0;34m(\u001b[0m\u001b[0mrk\u001b[0m\u001b[0;34m)\u001b[0m\u001b[0;34m)\u001b[0m\u001b[0;34m\u001b[0m\u001b[0;34m\u001b[0m\u001b[0m\n\u001b[0m\u001b[1;32m   1298\u001b[0m                         \u001b[0;32melse\u001b[0m\u001b[0;34m:\u001b[0m\u001b[0;34m\u001b[0m\u001b[0;34m\u001b[0m\u001b[0m\n\u001b[1;32m   1299\u001b[0m                             \u001b[0;31m# work-around for merge_asof(right_index=True)\u001b[0m\u001b[0;34m\u001b[0m\u001b[0;34m\u001b[0m\u001b[0m\n\u001b[1;32m   1300\u001b[0m                             \u001b[0mright_keys\u001b[0m\u001b[0;34m.\u001b[0m\u001b[0mappend\u001b[0m\u001b[0;34m(\u001b[0m\u001b[0mright\u001b[0m\u001b[0;34m.\u001b[0m\u001b[0mindex\u001b[0m\u001b[0;34m.\u001b[0m\u001b[0m_values\u001b[0m\u001b[0;34m)\u001b[0m\u001b[0;34m\u001b[0m\u001b[0;34m\u001b[0m\u001b[0m\n",
      "\u001b[0;32m/Library/Frameworks/Python.framework/Versions/3.12/lib/python3.12/site-packages/pandas/core/generic.py\u001b[0m in \u001b[0;36m?\u001b[0;34m(self, key, axis)\u001b[0m\n\u001b[1;32m   1907\u001b[0m             \u001b[0mvalues\u001b[0m \u001b[0;34m=\u001b[0m \u001b[0mself\u001b[0m\u001b[0;34m.\u001b[0m\u001b[0mxs\u001b[0m\u001b[0;34m(\u001b[0m\u001b[0mkey\u001b[0m\u001b[0;34m,\u001b[0m \u001b[0maxis\u001b[0m\u001b[0;34m=\u001b[0m\u001b[0mother_axes\u001b[0m\u001b[0;34m[\u001b[0m\u001b[0;36m0\u001b[0m\u001b[0;34m]\u001b[0m\u001b[0;34m)\u001b[0m\u001b[0;34m.\u001b[0m\u001b[0m_values\u001b[0m\u001b[0;34m\u001b[0m\u001b[0;34m\u001b[0m\u001b[0m\n\u001b[1;32m   1908\u001b[0m         \u001b[0;32melif\u001b[0m \u001b[0mself\u001b[0m\u001b[0;34m.\u001b[0m\u001b[0m_is_level_reference\u001b[0m\u001b[0;34m(\u001b[0m\u001b[0mkey\u001b[0m\u001b[0;34m,\u001b[0m \u001b[0maxis\u001b[0m\u001b[0;34m=\u001b[0m\u001b[0maxis\u001b[0m\u001b[0;34m)\u001b[0m\u001b[0;34m:\u001b[0m\u001b[0;34m\u001b[0m\u001b[0;34m\u001b[0m\u001b[0m\n\u001b[1;32m   1909\u001b[0m             \u001b[0mvalues\u001b[0m \u001b[0;34m=\u001b[0m \u001b[0mself\u001b[0m\u001b[0;34m.\u001b[0m\u001b[0maxes\u001b[0m\u001b[0;34m[\u001b[0m\u001b[0maxis\u001b[0m\u001b[0;34m]\u001b[0m\u001b[0;34m.\u001b[0m\u001b[0mget_level_values\u001b[0m\u001b[0;34m(\u001b[0m\u001b[0mkey\u001b[0m\u001b[0;34m)\u001b[0m\u001b[0;34m.\u001b[0m\u001b[0m_values\u001b[0m\u001b[0;34m\u001b[0m\u001b[0;34m\u001b[0m\u001b[0m\n\u001b[1;32m   1910\u001b[0m         \u001b[0;32melse\u001b[0m\u001b[0;34m:\u001b[0m\u001b[0;34m\u001b[0m\u001b[0;34m\u001b[0m\u001b[0m\n\u001b[0;32m-> 1911\u001b[0;31m             \u001b[0;32mraise\u001b[0m \u001b[0mKeyError\u001b[0m\u001b[0;34m(\u001b[0m\u001b[0mkey\u001b[0m\u001b[0;34m)\u001b[0m\u001b[0;34m\u001b[0m\u001b[0;34m\u001b[0m\u001b[0m\n\u001b[0m\u001b[1;32m   1912\u001b[0m \u001b[0;34m\u001b[0m\u001b[0m\n\u001b[1;32m   1913\u001b[0m         \u001b[0;31m# Check for duplicates\u001b[0m\u001b[0;34m\u001b[0m\u001b[0;34m\u001b[0m\u001b[0m\n\u001b[1;32m   1914\u001b[0m         \u001b[0;32mif\u001b[0m \u001b[0mvalues\u001b[0m\u001b[0;34m.\u001b[0m\u001b[0mndim\u001b[0m \u001b[0;34m>\u001b[0m \u001b[0;36m1\u001b[0m\u001b[0;34m:\u001b[0m\u001b[0;34m\u001b[0m\u001b[0;34m\u001b[0m\u001b[0m\n",
      "\u001b[0;31mKeyError\u001b[0m: 'stay_id_vitals'"
     ]
    }
   ],
   "source": [
    "# Function to calculate ranges for specified columns\n",
    "def calculate_ranges(df, columns):\n",
    "    ranges = {}\n",
    "    for col in columns:\n",
    "        col_data = df[col].replace(0.0, np.nan)  # Ignore values of 0\n",
    "        ranges[col] = {\n",
    "            'min': col_data.min(),\n",
    "            'max': col_data.max()\n",
    "        }\n",
    "    return ranges\n",
    "\n",
    "# Explore ranges in vitals and triage data\n",
    "cols = ['heartrate', 'resprate', 'o2sat', 'sbp', 'dbp']\n",
    "vitals_ranges = calculate_ranges(vitals, cols)\n",
    "print(\"Ranges in vitals_cleaned:\", vitals_ranges)\n",
    "\n",
    "triage_ranges = calculate_ranges(triage, cols)\n",
    "print(\"Ranges in triage_cleaned:\", triage_ranges)\n",
    "\n",
    "# Merge datasets\n",
    "merged_ed_icu = ed_stays[['stay_id', 'hadm_id']].merge(icu_data[['hadm_id', 'los']], on='hadm_id', how='inner')\n",
    "merged_ed_icu = merged_ed_icu[['stay_id', 'hadm_id', 'los']]\n",
    "\n",
    "# Select columns and rename duplicates for clarity\n",
    "ed_features = pd.merge(\n",
    "    triage[['stay_id_triage', 'heartrate', 'resprate', 'o2sat', 'sbp', 'dbp']],\n",
    "    vitals[['stay_id_vitals', 'heartrate', 'resprate', 'o2sat', 'sbp', 'dbp']],\n",
    "    left_on='stay_id_triage', right_on='stay_id_vitals', how='outer'\n",
    ").rename(columns={'stay_id_triage': 'stay_id'}).drop(columns='stay_id_vitals')\n",
    "\n",
    "final_data = pd.merge(ed_features, merged_ed_icu, on='stay_id', how='inner')\n",
    "final_data = pd.merge(final_data, diagnosis[['stay_id', 'icd_combined']], on='stay_id', how='left')\n",
    "\n",
    "# Impute missing values\n",
    "def impute_missing_values(df, numeric_features, non_numeric_features):\n",
    "    # Impute numeric columns using the mean\n",
    "    numeric_imputer = SimpleImputer(strategy='mean')\n",
    "    df[numeric_features] = numeric_imputer.fit_transform(df[numeric_features])\n",
    "    \n",
    "    # Impute non-numeric columns with a constant value, e.g., 'unknown'\n",
    "    non_numeric_imputer = SimpleImputer(strategy='constant', fill_value='unknown')\n",
    "    df[non_numeric_features] = non_numeric_imputer.fit_transform(df[non_numeric_features])\n",
    "    \n",
    "    return df\n",
    "\n",
    "# Define numeric and non-numeric features for imputation\n",
    "numeric_features = ['heartrate', 'resprate', 'o2sat', 'sbp', 'dbp']\n",
    "non_numeric_features = ['icd_combined']\n",
    "\n",
    "# Apply the imputation function\n",
    "final_data = impute_missing_values(final_data, numeric_features, non_numeric_features)\n",
    "\n",
    "# Function to calculate and handle outliers\n",
    "def remove_outliers(df, col_ranges):\n",
    "    for col, (min_val, max_val) in col_ranges.items():\n",
    "        df[col] = np.where(df[col] < min_val, min_val, df[col])\n",
    "        df[col] = np.where(df[col] > max_val, max_val, df[col])\n",
    "    return df\n",
    "\n",
    "col_ranges = {\n",
    "    'heartrate': (30, 180),\n",
    "    'resprate': (8, 60),\n",
    "    'o2sat': (50, 100),\n",
    "    'sbp': (60, 250),\n",
    "    'dbp': (30, 150),\n",
    "}\n",
    "final_data = remove_outliers(final_data, col_ranges)\n",
    "\n",
    "# Normalize data\n",
    "id_columns = ['stay_id', 'hadm_id', 'icd_combined']\n",
    "normalize_cols = ['heartrate', 'resprate', 'o2sat', 'sbp', 'dbp',]\n",
    "\n",
    "# Separate data into two parts: identifiers and features to normalize\n",
    "id_data = final_data[id_columns]\n",
    "features_to_normalize = final_data[normalize_cols]\n",
    "\n",
    "# Normalize only the numeric columns\n",
    "scaler = StandardScaler()\n",
    "normalized_features = scaler.fit_transform(features_to_normalize)\n",
    "normalized_features_df = pd.DataFrame(normalized_features, columns=normalize_cols)\n",
    "\n",
    "# Concatenate the identifier columns with the normalized features\n",
    "final_data_normalized = pd.concat([id_data.reset_index(drop=True), normalized_features_df.reset_index(drop=True)], axis=1)\n",
    "\n",
    "#  Handle missing values\n",
    "final_data_normalized['icd_combined'] = final_data_normalized['icd_combined'].fillna('unknown')\n",
    "\n",
    "# Save the processed data\n",
    "final_data_normalized.to_csv('preprocessed_data.csv', index=False)\n",
    "print(\"Final preprocessed data saved to 'preprocessed_data.csv'\")\n",
    "\n"
   ]
  }
 ],
 "metadata": {
  "kernelspec": {
   "display_name": "Python 3",
   "language": "python",
   "name": "python3"
  },
  "language_info": {
   "codemirror_mode": {
    "name": "ipython",
    "version": 3
   },
   "file_extension": ".py",
   "mimetype": "text/x-python",
   "name": "python",
   "nbconvert_exporter": "python",
   "pygments_lexer": "ipython3",
   "version": "3.12.3"
  }
 },
 "nbformat": 4,
 "nbformat_minor": 5
}
