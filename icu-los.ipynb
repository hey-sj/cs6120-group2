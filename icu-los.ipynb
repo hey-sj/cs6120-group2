{
 "cells": [
  {
   "cell_type": "code",
   "execution_count": 7,
   "id": "initial_id",
   "metadata": {
    "collapsed": true
   },
   "outputs": [],
   "source": [
    "import pandas as pd\n",
    "import numpy as np"
   ]
  },
  {
   "cell_type": "code",
   "execution_count": 2,
   "id": "1af9f1f3",
   "metadata": {},
   "outputs": [
    {
     "name": "stdout",
     "output_type": "stream",
     "text": [
      "   subject_id   stay_id  seq_num icd_code  icd_version  \\\n",
      "0    10000032  32952584        1     4589            9   \n",
      "1    10000032  32952584        2    07070            9   \n",
      "2    10000032  32952584        3      V08            9   \n",
      "3    10000032  39399961        1    78097            9   \n",
      "4    10000032  39399961        2    34830            9   \n",
      "\n",
      "                                           icd_title icd_combined  \n",
      "0                                    HYPOTENSION NOS       9-4589  \n",
      "1  UNSPECIFIED VIRAL HEPATITIS C WITHOUT HEPATIC ...      9-07070  \n",
      "2                         ASYMPTOMATIC HIV INFECTION        9-V08  \n",
      "3                             ALTERED MENTAL STATUS       9-78097  \n",
      "4                        ENCEPHALOPATHY, UNSPECIFIED      9-34830  \n",
      "Number of unique icd_combined: 3894\n"
     ]
    }
   ],
   "source": [
    "#load data\n",
    "icu_data = pd.read_csv('icu/icustays_cleaned.csv')\n",
    "diagnosis = pd.read_csv('ed/diagnosis_cleaned.csv')\n",
    "triage = pd.read_csv('ed/triage_cleaned.csv')\n",
    "vitals = pd.read_csv('ed/vitals_cleaned.csv')\n",
    "\n",
    "# Combine the icd_version and icd_code columns in diagnosis table\n",
    "diagnosis['icd_combined'] = diagnosis['icd_version'].astype(str) + '-' + diagnosis['icd_code'].astype(str)\n",
    "print(diagnosis.head())\n",
    "\n",
    "unique_icd_combined_count = diagnosis['icd_combined'].nunique()\n",
    "print('Number of unique icd_combined:', unique_icd_combined_count)"
   ]
  },
  {
   "cell_type": "code",
   "execution_count": null,
   "id": "57c4ee1f",
   "metadata": {},
   "outputs": [
    {
     "name": "stdout",
     "output_type": "stream",
     "text": [
      "Ranges in vitals_cleaned: {'heartrate': {'min': np.float64(1.0), 'max': np.float64(705.0)}, 'resprate': {'min': np.float64(0.34), 'max': np.float64(78.0)}, 'o2sat': {'min': np.float64(1.0), 'max': np.float64(972.0)}, 'sbp': {'min': np.float64(2.0), 'max': np.float64(854.0)}, 'dbp': {'min': np.float64(2.0), 'max': np.float64(97100.0)}}\n",
      "Ranges in triage_cleaned: {'heartrate': {'min': np.float64(14.0), 'max': np.float64(1228.0)}, 'resprate': {'min': np.float64(1.0), 'max': np.float64(189.0)}, 'o2sat': {'min': np.float64(2.0), 'max': np.float64(1004.0)}, 'sbp': {'min': np.float64(1.0), 'max': np.float64(9656.0)}, 'dbp': {'min': np.float64(4.0), 'max': np.float64(9102.0)}}\n"
     ]
    }
   ],
   "source": [
    "# this is just exploratory. we can decide whether to keep this or not later\n",
    "\n",
    "cols = ['heartrate', 'resprate', 'o2sat', 'sbp', 'dbp']\n",
    "\n",
    "def range(df, columns):\n",
    "    ranges = {}\n",
    "    for col in cols:\n",
    "        col_data = df[col].replace(0.0, np.nan) # skip values of 0\n",
    "        ranges[col] = {\n",
    "            'min': col_data.min(),\n",
    "            'max': df[col].max()\n",
    "        }\n",
    "    return ranges\n",
    "\n",
    "vitals_ranges = range(vitals, cols)\n",
    "print(\"Ranges in vitals_cleaned:\", vitals_ranges)\n",
    "\n",
    "# Calculate ranges for triage_cleaned\n",
    "triage_ranges = range(triage, cols)\n",
    "print(\"Ranges in triage_cleaned:\", triage_ranges)"
   ]
  }
 ],
 "metadata": {
  "kernelspec": {
   "display_name": "Python 3",
   "language": "python",
   "name": "python3"
  },
  "language_info": {
   "codemirror_mode": {
    "name": "ipython",
    "version": 3
   },
   "file_extension": ".py",
   "mimetype": "text/x-python",
   "name": "python",
   "nbconvert_exporter": "python",
   "pygments_lexer": "ipython3",
   "version": "3.12.1"
  }
 },
 "nbformat": 4,
 "nbformat_minor": 5
}
